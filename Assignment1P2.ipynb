{
  "nbformat": 4,
  "nbformat_minor": 0,
  "metadata": {
    "colab": {
      "provenance": [],
      "collapsed_sections": [],
      "authorship_tag": "ABX9TyPSwb51J4bR6XIMPFlOPnnL",
      "include_colab_link": true
    },
    "kernelspec": {
      "name": "python3",
      "display_name": "Python 3"
    },
    "language_info": {
      "name": "python"
    }
  },
  "cells": [
    {
      "cell_type": "markdown",
      "metadata": {
        "id": "view-in-github",
        "colab_type": "text"
      },
      "source": [
        "<a href=\"https://colab.research.google.com/github/FarzanaAdiba/ML_Assignment1/blob/main/Assignment1P2.ipynb\" target=\"_parent\"><img src=\"https://colab.research.google.com/assets/colab-badge.svg\" alt=\"Open In Colab\"/></a>"
      ]
    },
    {
      "cell_type": "code",
      "execution_count": 2,
      "metadata": {
        "id": "eoLgw_B42RWs"
      },
      "outputs": [],
      "source": [
        "# Making the imports\n",
        "import numpy as np\n",
        "import pandas as pd\n",
        "import matplotlib.pyplot as plt\n",
        "plt.rcParams['figure.figsize'] = (12.0, 9.0)"
      ]
    },
    {
      "cell_type": "code",
      "source": [
        "from google.colab import drive\n",
        "drive.mount('/content/drive/')\n",
        "#xtrain = np.load('x_train.npy')"
      ],
      "metadata": {
        "colab": {
          "base_uri": "https://localhost:8080/"
        },
        "id": "khdjhOKKV6Yv",
        "outputId": "4e62ee3e-abc9-4793-e007-a3e29359b24e"
      },
      "execution_count": 3,
      "outputs": [
        {
          "output_type": "stream",
          "name": "stdout",
          "text": [
            "Mounted at /content/drive/\n"
          ]
        }
      ]
    },
    {
      "cell_type": "code",
      "source": [
        "df =pd.read_csv('/content/drive/MyDrive/Colab Notebooks/ML_Assignments/Assignment1_Q2_Data.csv')\n",
        "df.head(10)"
      ],
      "metadata": {
        "colab": {
          "base_uri": "https://localhost:8080/",
          "height": 424
        },
        "id": "fcSrUJNYWiLR",
        "outputId": "3921b141-260c-4597-ea52-f745d7cf2dc8"
      },
      "execution_count": 4,
      "outputs": [
        {
          "output_type": "execute_result",
          "data": {
            "text/plain": [
              "   House ID  Local Price  Bathrooms  Land Area  Living area  # Garages  \\\n",
              "0         1       4.9176        1.0      3.472        0.998        1.0   \n",
              "1         2       5.0208        1.0      3.531        1.500        2.0   \n",
              "2         3       4.5429        1.0      2.275        1.175        1.0   \n",
              "3         4       4.5573        1.0      4.050        1.232        1.0   \n",
              "4         5       5.0597        1.0      4.455        1.121        1.0   \n",
              "5         6       3.8910        1.0      4.455        0.988        1.0   \n",
              "6         7       5.8980        1.0      5.850        1.240        1.0   \n",
              "7         8       5.6039        1.0      9.520        1.501        0.0   \n",
              "8         9      16.4202        2.5      9.800        3.420        2.0   \n",
              "9        10      14.4598        2.5     12.800        3.000        2.0   \n",
              "\n",
              "   # Rooms  # Bedrooms  Age of home  Construction type  Architecture type  \\\n",
              "0        7           4           42                  3                  1   \n",
              "1        7           4           62                  1                  1   \n",
              "2        6           3           40                  2                  1   \n",
              "3        6           3           54                  4                  1   \n",
              "4        6           3           42                  3                  1   \n",
              "5        6           3           56                  2                  1   \n",
              "6        7           3           51                  2                  1   \n",
              "7        6           3           32                  1                  1   \n",
              "8       10           5           42                  2                  1   \n",
              "9        9           5           14                  4                  1   \n",
              "\n",
              "   # Fire places  Price (1000$)  \n",
              "0              0           25.9  \n",
              "1              0           29.5  \n",
              "2              0           27.9  \n",
              "3              0           25.9  \n",
              "4              0           29.9  \n",
              "5              0           29.9  \n",
              "6              1           30.9  \n",
              "7              0           28.9  \n",
              "8              1           84.9  \n",
              "9              1           82.9  "
            ],
            "text/html": [
              "\n",
              "  <div id=\"df-0cd6cef6-d641-4471-ad44-39fda3814448\">\n",
              "    <div class=\"colab-df-container\">\n",
              "      <div>\n",
              "<style scoped>\n",
              "    .dataframe tbody tr th:only-of-type {\n",
              "        vertical-align: middle;\n",
              "    }\n",
              "\n",
              "    .dataframe tbody tr th {\n",
              "        vertical-align: top;\n",
              "    }\n",
              "\n",
              "    .dataframe thead th {\n",
              "        text-align: right;\n",
              "    }\n",
              "</style>\n",
              "<table border=\"1\" class=\"dataframe\">\n",
              "  <thead>\n",
              "    <tr style=\"text-align: right;\">\n",
              "      <th></th>\n",
              "      <th>House ID</th>\n",
              "      <th>Local Price</th>\n",
              "      <th>Bathrooms</th>\n",
              "      <th>Land Area</th>\n",
              "      <th>Living area</th>\n",
              "      <th># Garages</th>\n",
              "      <th># Rooms</th>\n",
              "      <th># Bedrooms</th>\n",
              "      <th>Age of home</th>\n",
              "      <th>Construction type</th>\n",
              "      <th>Architecture type</th>\n",
              "      <th># Fire places</th>\n",
              "      <th>Price (1000$)</th>\n",
              "    </tr>\n",
              "  </thead>\n",
              "  <tbody>\n",
              "    <tr>\n",
              "      <th>0</th>\n",
              "      <td>1</td>\n",
              "      <td>4.9176</td>\n",
              "      <td>1.0</td>\n",
              "      <td>3.472</td>\n",
              "      <td>0.998</td>\n",
              "      <td>1.0</td>\n",
              "      <td>7</td>\n",
              "      <td>4</td>\n",
              "      <td>42</td>\n",
              "      <td>3</td>\n",
              "      <td>1</td>\n",
              "      <td>0</td>\n",
              "      <td>25.9</td>\n",
              "    </tr>\n",
              "    <tr>\n",
              "      <th>1</th>\n",
              "      <td>2</td>\n",
              "      <td>5.0208</td>\n",
              "      <td>1.0</td>\n",
              "      <td>3.531</td>\n",
              "      <td>1.500</td>\n",
              "      <td>2.0</td>\n",
              "      <td>7</td>\n",
              "      <td>4</td>\n",
              "      <td>62</td>\n",
              "      <td>1</td>\n",
              "      <td>1</td>\n",
              "      <td>0</td>\n",
              "      <td>29.5</td>\n",
              "    </tr>\n",
              "    <tr>\n",
              "      <th>2</th>\n",
              "      <td>3</td>\n",
              "      <td>4.5429</td>\n",
              "      <td>1.0</td>\n",
              "      <td>2.275</td>\n",
              "      <td>1.175</td>\n",
              "      <td>1.0</td>\n",
              "      <td>6</td>\n",
              "      <td>3</td>\n",
              "      <td>40</td>\n",
              "      <td>2</td>\n",
              "      <td>1</td>\n",
              "      <td>0</td>\n",
              "      <td>27.9</td>\n",
              "    </tr>\n",
              "    <tr>\n",
              "      <th>3</th>\n",
              "      <td>4</td>\n",
              "      <td>4.5573</td>\n",
              "      <td>1.0</td>\n",
              "      <td>4.050</td>\n",
              "      <td>1.232</td>\n",
              "      <td>1.0</td>\n",
              "      <td>6</td>\n",
              "      <td>3</td>\n",
              "      <td>54</td>\n",
              "      <td>4</td>\n",
              "      <td>1</td>\n",
              "      <td>0</td>\n",
              "      <td>25.9</td>\n",
              "    </tr>\n",
              "    <tr>\n",
              "      <th>4</th>\n",
              "      <td>5</td>\n",
              "      <td>5.0597</td>\n",
              "      <td>1.0</td>\n",
              "      <td>4.455</td>\n",
              "      <td>1.121</td>\n",
              "      <td>1.0</td>\n",
              "      <td>6</td>\n",
              "      <td>3</td>\n",
              "      <td>42</td>\n",
              "      <td>3</td>\n",
              "      <td>1</td>\n",
              "      <td>0</td>\n",
              "      <td>29.9</td>\n",
              "    </tr>\n",
              "    <tr>\n",
              "      <th>5</th>\n",
              "      <td>6</td>\n",
              "      <td>3.8910</td>\n",
              "      <td>1.0</td>\n",
              "      <td>4.455</td>\n",
              "      <td>0.988</td>\n",
              "      <td>1.0</td>\n",
              "      <td>6</td>\n",
              "      <td>3</td>\n",
              "      <td>56</td>\n",
              "      <td>2</td>\n",
              "      <td>1</td>\n",
              "      <td>0</td>\n",
              "      <td>29.9</td>\n",
              "    </tr>\n",
              "    <tr>\n",
              "      <th>6</th>\n",
              "      <td>7</td>\n",
              "      <td>5.8980</td>\n",
              "      <td>1.0</td>\n",
              "      <td>5.850</td>\n",
              "      <td>1.240</td>\n",
              "      <td>1.0</td>\n",
              "      <td>7</td>\n",
              "      <td>3</td>\n",
              "      <td>51</td>\n",
              "      <td>2</td>\n",
              "      <td>1</td>\n",
              "      <td>1</td>\n",
              "      <td>30.9</td>\n",
              "    </tr>\n",
              "    <tr>\n",
              "      <th>7</th>\n",
              "      <td>8</td>\n",
              "      <td>5.6039</td>\n",
              "      <td>1.0</td>\n",
              "      <td>9.520</td>\n",
              "      <td>1.501</td>\n",
              "      <td>0.0</td>\n",
              "      <td>6</td>\n",
              "      <td>3</td>\n",
              "      <td>32</td>\n",
              "      <td>1</td>\n",
              "      <td>1</td>\n",
              "      <td>0</td>\n",
              "      <td>28.9</td>\n",
              "    </tr>\n",
              "    <tr>\n",
              "      <th>8</th>\n",
              "      <td>9</td>\n",
              "      <td>16.4202</td>\n",
              "      <td>2.5</td>\n",
              "      <td>9.800</td>\n",
              "      <td>3.420</td>\n",
              "      <td>2.0</td>\n",
              "      <td>10</td>\n",
              "      <td>5</td>\n",
              "      <td>42</td>\n",
              "      <td>2</td>\n",
              "      <td>1</td>\n",
              "      <td>1</td>\n",
              "      <td>84.9</td>\n",
              "    </tr>\n",
              "    <tr>\n",
              "      <th>9</th>\n",
              "      <td>10</td>\n",
              "      <td>14.4598</td>\n",
              "      <td>2.5</td>\n",
              "      <td>12.800</td>\n",
              "      <td>3.000</td>\n",
              "      <td>2.0</td>\n",
              "      <td>9</td>\n",
              "      <td>5</td>\n",
              "      <td>14</td>\n",
              "      <td>4</td>\n",
              "      <td>1</td>\n",
              "      <td>1</td>\n",
              "      <td>82.9</td>\n",
              "    </tr>\n",
              "  </tbody>\n",
              "</table>\n",
              "</div>\n",
              "      <button class=\"colab-df-convert\" onclick=\"convertToInteractive('df-0cd6cef6-d641-4471-ad44-39fda3814448')\"\n",
              "              title=\"Convert this dataframe to an interactive table.\"\n",
              "              style=\"display:none;\">\n",
              "        \n",
              "  <svg xmlns=\"http://www.w3.org/2000/svg\" height=\"24px\"viewBox=\"0 0 24 24\"\n",
              "       width=\"24px\">\n",
              "    <path d=\"M0 0h24v24H0V0z\" fill=\"none\"/>\n",
              "    <path d=\"M18.56 5.44l.94 2.06.94-2.06 2.06-.94-2.06-.94-.94-2.06-.94 2.06-2.06.94zm-11 1L8.5 8.5l.94-2.06 2.06-.94-2.06-.94L8.5 2.5l-.94 2.06-2.06.94zm10 10l.94 2.06.94-2.06 2.06-.94-2.06-.94-.94-2.06-.94 2.06-2.06.94z\"/><path d=\"M17.41 7.96l-1.37-1.37c-.4-.4-.92-.59-1.43-.59-.52 0-1.04.2-1.43.59L10.3 9.45l-7.72 7.72c-.78.78-.78 2.05 0 2.83L4 21.41c.39.39.9.59 1.41.59.51 0 1.02-.2 1.41-.59l7.78-7.78 2.81-2.81c.8-.78.8-2.07 0-2.86zM5.41 20L4 18.59l7.72-7.72 1.47 1.35L5.41 20z\"/>\n",
              "  </svg>\n",
              "      </button>\n",
              "      \n",
              "  <style>\n",
              "    .colab-df-container {\n",
              "      display:flex;\n",
              "      flex-wrap:wrap;\n",
              "      gap: 12px;\n",
              "    }\n",
              "\n",
              "    .colab-df-convert {\n",
              "      background-color: #E8F0FE;\n",
              "      border: none;\n",
              "      border-radius: 50%;\n",
              "      cursor: pointer;\n",
              "      display: none;\n",
              "      fill: #1967D2;\n",
              "      height: 32px;\n",
              "      padding: 0 0 0 0;\n",
              "      width: 32px;\n",
              "    }\n",
              "\n",
              "    .colab-df-convert:hover {\n",
              "      background-color: #E2EBFA;\n",
              "      box-shadow: 0px 1px 2px rgba(60, 64, 67, 0.3), 0px 1px 3px 1px rgba(60, 64, 67, 0.15);\n",
              "      fill: #174EA6;\n",
              "    }\n",
              "\n",
              "    [theme=dark] .colab-df-convert {\n",
              "      background-color: #3B4455;\n",
              "      fill: #D2E3FC;\n",
              "    }\n",
              "\n",
              "    [theme=dark] .colab-df-convert:hover {\n",
              "      background-color: #434B5C;\n",
              "      box-shadow: 0px 1px 3px 1px rgba(0, 0, 0, 0.15);\n",
              "      filter: drop-shadow(0px 1px 2px rgba(0, 0, 0, 0.3));\n",
              "      fill: #FFFFFF;\n",
              "    }\n",
              "  </style>\n",
              "\n",
              "      <script>\n",
              "        const buttonEl =\n",
              "          document.querySelector('#df-0cd6cef6-d641-4471-ad44-39fda3814448 button.colab-df-convert');\n",
              "        buttonEl.style.display =\n",
              "          google.colab.kernel.accessAllowed ? 'block' : 'none';\n",
              "\n",
              "        async function convertToInteractive(key) {\n",
              "          const element = document.querySelector('#df-0cd6cef6-d641-4471-ad44-39fda3814448');\n",
              "          const dataTable =\n",
              "            await google.colab.kernel.invokeFunction('convertToInteractive',\n",
              "                                                     [key], {});\n",
              "          if (!dataTable) return;\n",
              "\n",
              "          const docLinkHtml = 'Like what you see? Visit the ' +\n",
              "            '<a target=\"_blank\" href=https://colab.research.google.com/notebooks/data_table.ipynb>data table notebook</a>'\n",
              "            + ' to learn more about interactive tables.';\n",
              "          element.innerHTML = '';\n",
              "          dataTable['output_type'] = 'display_data';\n",
              "          await google.colab.output.renderOutput(dataTable, element);\n",
              "          const docLink = document.createElement('div');\n",
              "          docLink.innerHTML = docLinkHtml;\n",
              "          element.appendChild(docLink);\n",
              "        }\n",
              "      </script>\n",
              "    </div>\n",
              "  </div>\n",
              "  "
            ]
          },
          "metadata": {},
          "execution_count": 4
        }
      ]
    },
    {
      "cell_type": "code",
      "source": [
        "df.shape"
      ],
      "metadata": {
        "colab": {
          "base_uri": "https://localhost:8080/"
        },
        "id": "2-mvLHcH286r",
        "outputId": "416d375d-836c-44a3-abb5-a55328103555"
      },
      "execution_count": 5,
      "outputs": [
        {
          "output_type": "execute_result",
          "data": {
            "text/plain": [
              "(28, 13)"
            ]
          },
          "metadata": {},
          "execution_count": 5
        }
      ]
    },
    {
      "cell_type": "code",
      "source": [
        "df.info()"
      ],
      "metadata": {
        "colab": {
          "base_uri": "https://localhost:8080/"
        },
        "id": "AMPit8JwXEQ1",
        "outputId": "efaacae0-51d5-4fb3-9a52-ba55d0a4e211"
      },
      "execution_count": 6,
      "outputs": [
        {
          "output_type": "stream",
          "name": "stdout",
          "text": [
            "<class 'pandas.core.frame.DataFrame'>\n",
            "RangeIndex: 28 entries, 0 to 27\n",
            "Data columns (total 13 columns):\n",
            " #   Column             Non-Null Count  Dtype  \n",
            "---  ------             --------------  -----  \n",
            " 0   House ID           28 non-null     int64  \n",
            " 1   Local Price        28 non-null     float64\n",
            " 2   Bathrooms          28 non-null     float64\n",
            " 3   Land Area          28 non-null     float64\n",
            " 4   Living area        28 non-null     float64\n",
            " 5   # Garages          28 non-null     float64\n",
            " 6   # Rooms            28 non-null     int64  \n",
            " 7   # Bedrooms         28 non-null     int64  \n",
            " 8   Age of home        28 non-null     int64  \n",
            " 9   Construction type  28 non-null     int64  \n",
            " 10  Architecture type  28 non-null     int64  \n",
            " 11  # Fire places      28 non-null     int64  \n",
            " 12  Price (1000$)      28 non-null     float64\n",
            "dtypes: float64(6), int64(7)\n",
            "memory usage: 3.0 KB\n"
          ]
        }
      ]
    },
    {
      "cell_type": "code",
      "source": [
        "df.columns"
      ],
      "metadata": {
        "colab": {
          "base_uri": "https://localhost:8080/"
        },
        "id": "AWN8feT5Zqob",
        "outputId": "adcd7ec2-b1a6-4be1-80eb-f4806fc1e965"
      },
      "execution_count": 7,
      "outputs": [
        {
          "output_type": "execute_result",
          "data": {
            "text/plain": [
              "Index(['House ID', 'Local Price', 'Bathrooms', 'Land Area', 'Living area',\n",
              "       '# Garages', '# Rooms', '# Bedrooms', 'Age of home',\n",
              "       'Construction type', 'Architecture type', '# Fire places',\n",
              "       'Price (1000$)'],\n",
              "      dtype='object')"
            ]
          },
          "metadata": {},
          "execution_count": 7
        }
      ]
    },
    {
      "cell_type": "code",
      "source": [
        "trainDF=df[0:18]\n",
        "xtrain=trainDF.iloc[:,0:12].values\n",
        "ytrain=trainDF.iloc[:,-1].values"
      ],
      "metadata": {
        "id": "LlT9NTfjb_sP"
      },
      "execution_count": 21,
      "outputs": []
    },
    {
      "cell_type": "code",
      "source": [
        "testDF=df[18:]\n",
        "xtest=testDF.iloc[:,0:12].values\n",
        "ytest=testDF.iloc[:,-1].values"
      ],
      "metadata": {
        "id": "u5EoonUx3Har"
      },
      "execution_count": 22,
      "outputs": []
    },
    {
      "cell_type": "code",
      "source": [
        "#Adding bias as one\n",
        "x1=np.array(xtrain)\n",
        "# Creating a column of ones that will be used as a bias\n",
        "one=np.ones(18)\n",
        "onet= np.ones(10)   \n",
        "one=np.array(one).reshape(18,1)\n",
        "one_test=np.array(onet).reshape(10,1)\n",
        "# Adding column 'one' as a bias\n",
        "x1=np.append(x1,one,axis=1)   \n",
        "x2 = np.append(xtest,one_test,axis=1)"
      ],
      "metadata": {
        "id": "SDTkSCgfPs7a"
      },
      "execution_count": 23,
      "outputs": []
    },
    {
      "cell_type": "code",
      "source": [
        "#Taking the eqn for the train and test data\n",
        "\n",
        "x1_t=x1.transpose()    \n",
        "x1_t_x1 = np.dot(x1_t, x1)\n",
        "x1_t_x1_inv=np.linalg.inv(x1_t_x1) #taking inverse\n",
        "yn=np.array(ytrain).reshape(18,1)\n",
        "y_t=np.array(ytest).reshape(10,1)\n",
        "x1_t_y1=np.dot(x1_t, yn)\n",
        "#calculating beta value\n",
        "beta=np.dot(x1_t_x1_inv, x1_t_y1)\n",
        "y_pred = x1.dot(beta)\n",
        "y_predt=x2.dot(beta) "
      ],
      "metadata": {
        "id": "1KElNH2yXFbW"
      },
      "execution_count": 29,
      "outputs": []
    },
    {
      "cell_type": "code",
      "source": [
        "a,b=x1.shape\n",
        "a"
      ],
      "metadata": {
        "colab": {
          "base_uri": "https://localhost:8080/"
        },
        "id": "RxD0b8edZCDm",
        "outputId": "6f2a700d-73c0-4f18-8a84-183643c27d29"
      },
      "execution_count": 36,
      "outputs": [
        {
          "output_type": "execute_result",
          "data": {
            "text/plain": [
              "18"
            ]
          },
          "metadata": {},
          "execution_count": 36
        }
      ]
    },
    {
      "cell_type": "markdown",
      "source": [
        "# 2.1 Ans: The Least Avg square error has been given below:"
      ],
      "metadata": {
        "id": "PIFFo8pict_y"
      }
    },
    {
      "cell_type": "code",
      "source": [
        "#Finding the error value using Avg Least square error\n",
        "print(x1.shape)\n",
        "err_train=(((y_pred-yn)**2).sum())/(2*(a)) \n",
        "err_test=(((y_predt-y_t)**2).sum())/(2*(a)) \n",
        "print(\"Average Least Squared Error for train set\",err_train)\n",
        "print(\"Average Least Squared Error for test data\",err_test)"
      ],
      "metadata": {
        "colab": {
          "base_uri": "https://localhost:8080/"
        },
        "id": "Xd6GR7g9ZprK",
        "outputId": "7278aabf-ba55-4c0a-ad60-24aeab570be2"
      },
      "execution_count": 38,
      "outputs": [
        {
          "output_type": "stream",
          "name": "stdout",
          "text": [
            "(18, 13)\n",
            "Average Least Squared Error for train set 1.110161556226631\n",
            "Average Least Squared Error for test data 20.426374366311595\n"
          ]
        }
      ]
    },
    {
      "cell_type": "code",
      "source": [
        "#Now finding the coefficient to see which feature has the most and the least importance\n",
        "beta"
      ],
      "metadata": {
        "colab": {
          "base_uri": "https://localhost:8080/"
        },
        "id": "0y3qB3f_a8xS",
        "outputId": "61e2675c-b997-41eb-d4fe-bf1c0e4e8242"
      },
      "execution_count": 39,
      "outputs": [
        {
          "output_type": "execute_result",
          "data": {
            "text/plain": [
              "array([[-0.29373004],\n",
              "       [ 2.02475677],\n",
              "       [23.71558185],\n",
              "       [ 0.31481907],\n",
              "       [ 2.78929525],\n",
              "       [ 2.39725911],\n",
              "       [-6.06207669],\n",
              "       [ 3.08638641],\n",
              "       [ 0.02472895],\n",
              "       [-1.0100057 ],\n",
              "       [-0.38377102],\n",
              "       [ 4.81810033],\n",
              "       [18.57680181]])"
            ]
          },
          "metadata": {},
          "execution_count": 39
        }
      ]
    },
    {
      "cell_type": "markdown",
      "source": [
        "# 2.2 Ans: The most effect on the final value"
      ],
      "metadata": {
        "id": "DmXjzyNRbTT-"
      }
    },
    {
      "cell_type": "markdown",
      "source": [
        "From the value of beta which are actually the coefficients value we can determine that the value of 3rd column \"Bathrooms\" has the highest coefficient and using only this feature if we implement the above equation then "
      ],
      "metadata": {
        "id": "YGUvyZ3YdXeC"
      }
    },
    {
      "cell_type": "code",
      "source": [
        "x1=np.array(xtrain[:,2]).reshape(18,1)\n",
        "# Creating a column of ones that will be used as a bias\n",
        "one=np.ones(18)\n",
        "onet= np.ones(10)   \n",
        "one=np.array(one).reshape(18,1)\n",
        "one_test=np.array(onet).reshape(10,1)\n",
        "x1=np.append(x1,one,axis=1)    # Adding column 'one' as a bias\n",
        "x2=np.array(xtest[:,2]).reshape(10,1)\n",
        "x2 = np.append(x2,one_test,axis=1)"
      ],
      "metadata": {
        "id": "NgMG1EeNdT1V"
      },
      "execution_count": 44,
      "outputs": []
    },
    {
      "cell_type": "code",
      "source": [
        "#Taking the eqn for the train and test data\n",
        "x1_t=x1.transpose()    \n",
        "x1_t_x1 = np.dot(x1_t, x1)\n",
        "x1_t_x1_inv=np.linalg.inv(x1_t_x1) #taking inverse\n",
        "yn=np.array(ytrain).reshape(18,1)\n",
        "y_t=np.array(ytest).reshape(10,1)\n",
        "x1_t_y1=np.dot(x1_t, yn)\n",
        "#calculating beta value\n",
        "beta=np.dot(x1_t_x1_inv, x1_t_y1)\n",
        "y_pred = x1.dot(beta)\n",
        "y_predt=x2.dot(beta) "
      ],
      "metadata": {
        "id": "NjkupgE5eWIf"
      },
      "execution_count": 45,
      "outputs": []
    },
    {
      "cell_type": "code",
      "source": [
        "#Finding the error value using Avg Least square error\n",
        "print(x1.shape)\n",
        "err_train=(((y_pred-yn)**2).sum())/(2*(a)) \n",
        "err_test=(((y_predt-y_t)**2).sum())/(2*(a)) \n",
        "print(\"Average Least Squared Error for train set\",err_train)\n",
        "print(\"Average Least Squared Error for test data\",err_test)"
      ],
      "metadata": {
        "colab": {
          "base_uri": "https://localhost:8080/"
        },
        "id": "hA-nHwtreczl",
        "outputId": "5475b48f-bf05-41fa-f68f-43115a938059"
      },
      "execution_count": 46,
      "outputs": [
        {
          "output_type": "stream",
          "name": "stdout",
          "text": [
            "(18, 2)\n",
            "Average Least Squared Error for train set 5.974496996996999\n",
            "Average Least Squared Error for test data 17.56430134526426\n"
          ]
        }
      ]
    },
    {
      "cell_type": "markdown",
      "source": [
        "# 2.3 Ans: The least effect on the final value"
      ],
      "metadata": {
        "id": "-D3QaDSifbKL"
      }
    },
    {
      "cell_type": "markdown",
      "source": [
        "From the value of beta which are actually the coefficients value we can determine that the value of 6th column \"# Rooms\" has the lowest coefficient and using only this feature if we implement the above equation by removing this feature then the changes are showing below:"
      ],
      "metadata": {
        "id": "7DvX29y6fsvP"
      }
    },
    {
      "cell_type": "code",
      "source": [
        "#Removing column 6\n",
        "df1 = df.drop(df.columns[[6]], axis=1) \n"
      ],
      "metadata": {
        "id": "uyNDFddefhPR"
      },
      "execution_count": 55,
      "outputs": []
    },
    {
      "cell_type": "code",
      "source": [
        "df1.head(5)"
      ],
      "metadata": {
        "colab": {
          "base_uri": "https://localhost:8080/",
          "height": 206
        },
        "id": "eJz297cjgsav",
        "outputId": "89d95d29-0999-4312-ed9d-c604f117f8a2"
      },
      "execution_count": 57,
      "outputs": [
        {
          "output_type": "execute_result",
          "data": {
            "text/plain": [
              "   House ID  Local Price  Bathrooms  Land Area  Living area  # Garages  \\\n",
              "0         1       4.9176        1.0      3.472        0.998        1.0   \n",
              "1         2       5.0208        1.0      3.531        1.500        2.0   \n",
              "2         3       4.5429        1.0      2.275        1.175        1.0   \n",
              "3         4       4.5573        1.0      4.050        1.232        1.0   \n",
              "4         5       5.0597        1.0      4.455        1.121        1.0   \n",
              "\n",
              "   Age of home  Construction type  Architecture type  # Fire places  \\\n",
              "0           42                  3                  1              0   \n",
              "1           62                  1                  1              0   \n",
              "2           40                  2                  1              0   \n",
              "3           54                  4                  1              0   \n",
              "4           42                  3                  1              0   \n",
              "\n",
              "   Price (1000$)  \n",
              "0           25.9  \n",
              "1           29.5  \n",
              "2           27.9  \n",
              "3           25.9  \n",
              "4           29.9  "
            ],
            "text/html": [
              "\n",
              "  <div id=\"df-7c06ec8a-63ab-4216-a707-4e489195feca\">\n",
              "    <div class=\"colab-df-container\">\n",
              "      <div>\n",
              "<style scoped>\n",
              "    .dataframe tbody tr th:only-of-type {\n",
              "        vertical-align: middle;\n",
              "    }\n",
              "\n",
              "    .dataframe tbody tr th {\n",
              "        vertical-align: top;\n",
              "    }\n",
              "\n",
              "    .dataframe thead th {\n",
              "        text-align: right;\n",
              "    }\n",
              "</style>\n",
              "<table border=\"1\" class=\"dataframe\">\n",
              "  <thead>\n",
              "    <tr style=\"text-align: right;\">\n",
              "      <th></th>\n",
              "      <th>House ID</th>\n",
              "      <th>Local Price</th>\n",
              "      <th>Bathrooms</th>\n",
              "      <th>Land Area</th>\n",
              "      <th>Living area</th>\n",
              "      <th># Garages</th>\n",
              "      <th>Age of home</th>\n",
              "      <th>Construction type</th>\n",
              "      <th>Architecture type</th>\n",
              "      <th># Fire places</th>\n",
              "      <th>Price (1000$)</th>\n",
              "    </tr>\n",
              "  </thead>\n",
              "  <tbody>\n",
              "    <tr>\n",
              "      <th>0</th>\n",
              "      <td>1</td>\n",
              "      <td>4.9176</td>\n",
              "      <td>1.0</td>\n",
              "      <td>3.472</td>\n",
              "      <td>0.998</td>\n",
              "      <td>1.0</td>\n",
              "      <td>42</td>\n",
              "      <td>3</td>\n",
              "      <td>1</td>\n",
              "      <td>0</td>\n",
              "      <td>25.9</td>\n",
              "    </tr>\n",
              "    <tr>\n",
              "      <th>1</th>\n",
              "      <td>2</td>\n",
              "      <td>5.0208</td>\n",
              "      <td>1.0</td>\n",
              "      <td>3.531</td>\n",
              "      <td>1.500</td>\n",
              "      <td>2.0</td>\n",
              "      <td>62</td>\n",
              "      <td>1</td>\n",
              "      <td>1</td>\n",
              "      <td>0</td>\n",
              "      <td>29.5</td>\n",
              "    </tr>\n",
              "    <tr>\n",
              "      <th>2</th>\n",
              "      <td>3</td>\n",
              "      <td>4.5429</td>\n",
              "      <td>1.0</td>\n",
              "      <td>2.275</td>\n",
              "      <td>1.175</td>\n",
              "      <td>1.0</td>\n",
              "      <td>40</td>\n",
              "      <td>2</td>\n",
              "      <td>1</td>\n",
              "      <td>0</td>\n",
              "      <td>27.9</td>\n",
              "    </tr>\n",
              "    <tr>\n",
              "      <th>3</th>\n",
              "      <td>4</td>\n",
              "      <td>4.5573</td>\n",
              "      <td>1.0</td>\n",
              "      <td>4.050</td>\n",
              "      <td>1.232</td>\n",
              "      <td>1.0</td>\n",
              "      <td>54</td>\n",
              "      <td>4</td>\n",
              "      <td>1</td>\n",
              "      <td>0</td>\n",
              "      <td>25.9</td>\n",
              "    </tr>\n",
              "    <tr>\n",
              "      <th>4</th>\n",
              "      <td>5</td>\n",
              "      <td>5.0597</td>\n",
              "      <td>1.0</td>\n",
              "      <td>4.455</td>\n",
              "      <td>1.121</td>\n",
              "      <td>1.0</td>\n",
              "      <td>42</td>\n",
              "      <td>3</td>\n",
              "      <td>1</td>\n",
              "      <td>0</td>\n",
              "      <td>29.9</td>\n",
              "    </tr>\n",
              "  </tbody>\n",
              "</table>\n",
              "</div>\n",
              "      <button class=\"colab-df-convert\" onclick=\"convertToInteractive('df-7c06ec8a-63ab-4216-a707-4e489195feca')\"\n",
              "              title=\"Convert this dataframe to an interactive table.\"\n",
              "              style=\"display:none;\">\n",
              "        \n",
              "  <svg xmlns=\"http://www.w3.org/2000/svg\" height=\"24px\"viewBox=\"0 0 24 24\"\n",
              "       width=\"24px\">\n",
              "    <path d=\"M0 0h24v24H0V0z\" fill=\"none\"/>\n",
              "    <path d=\"M18.56 5.44l.94 2.06.94-2.06 2.06-.94-2.06-.94-.94-2.06-.94 2.06-2.06.94zm-11 1L8.5 8.5l.94-2.06 2.06-.94-2.06-.94L8.5 2.5l-.94 2.06-2.06.94zm10 10l.94 2.06.94-2.06 2.06-.94-2.06-.94-.94-2.06-.94 2.06-2.06.94z\"/><path d=\"M17.41 7.96l-1.37-1.37c-.4-.4-.92-.59-1.43-.59-.52 0-1.04.2-1.43.59L10.3 9.45l-7.72 7.72c-.78.78-.78 2.05 0 2.83L4 21.41c.39.39.9.59 1.41.59.51 0 1.02-.2 1.41-.59l7.78-7.78 2.81-2.81c.8-.78.8-2.07 0-2.86zM5.41 20L4 18.59l7.72-7.72 1.47 1.35L5.41 20z\"/>\n",
              "  </svg>\n",
              "      </button>\n",
              "      \n",
              "  <style>\n",
              "    .colab-df-container {\n",
              "      display:flex;\n",
              "      flex-wrap:wrap;\n",
              "      gap: 12px;\n",
              "    }\n",
              "\n",
              "    .colab-df-convert {\n",
              "      background-color: #E8F0FE;\n",
              "      border: none;\n",
              "      border-radius: 50%;\n",
              "      cursor: pointer;\n",
              "      display: none;\n",
              "      fill: #1967D2;\n",
              "      height: 32px;\n",
              "      padding: 0 0 0 0;\n",
              "      width: 32px;\n",
              "    }\n",
              "\n",
              "    .colab-df-convert:hover {\n",
              "      background-color: #E2EBFA;\n",
              "      box-shadow: 0px 1px 2px rgba(60, 64, 67, 0.3), 0px 1px 3px 1px rgba(60, 64, 67, 0.15);\n",
              "      fill: #174EA6;\n",
              "    }\n",
              "\n",
              "    [theme=dark] .colab-df-convert {\n",
              "      background-color: #3B4455;\n",
              "      fill: #D2E3FC;\n",
              "    }\n",
              "\n",
              "    [theme=dark] .colab-df-convert:hover {\n",
              "      background-color: #434B5C;\n",
              "      box-shadow: 0px 1px 3px 1px rgba(0, 0, 0, 0.15);\n",
              "      filter: drop-shadow(0px 1px 2px rgba(0, 0, 0, 0.3));\n",
              "      fill: #FFFFFF;\n",
              "    }\n",
              "  </style>\n",
              "\n",
              "      <script>\n",
              "        const buttonEl =\n",
              "          document.querySelector('#df-7c06ec8a-63ab-4216-a707-4e489195feca button.colab-df-convert');\n",
              "        buttonEl.style.display =\n",
              "          google.colab.kernel.accessAllowed ? 'block' : 'none';\n",
              "\n",
              "        async function convertToInteractive(key) {\n",
              "          const element = document.querySelector('#df-7c06ec8a-63ab-4216-a707-4e489195feca');\n",
              "          const dataTable =\n",
              "            await google.colab.kernel.invokeFunction('convertToInteractive',\n",
              "                                                     [key], {});\n",
              "          if (!dataTable) return;\n",
              "\n",
              "          const docLinkHtml = 'Like what you see? Visit the ' +\n",
              "            '<a target=\"_blank\" href=https://colab.research.google.com/notebooks/data_table.ipynb>data table notebook</a>'\n",
              "            + ' to learn more about interactive tables.';\n",
              "          element.innerHTML = '';\n",
              "          dataTable['output_type'] = 'display_data';\n",
              "          await google.colab.output.renderOutput(dataTable, element);\n",
              "          const docLink = document.createElement('div');\n",
              "          docLink.innerHTML = docLinkHtml;\n",
              "          element.appendChild(docLink);\n",
              "        }\n",
              "      </script>\n",
              "    </div>\n",
              "  </div>\n",
              "  "
            ]
          },
          "metadata": {},
          "execution_count": 57
        }
      ]
    },
    {
      "cell_type": "code",
      "source": [
        "df1.shape"
      ],
      "metadata": {
        "colab": {
          "base_uri": "https://localhost:8080/"
        },
        "id": "dB5V2afHhgRe",
        "outputId": "fd838160-b7c6-4402-f626-b4fe5f619779"
      },
      "execution_count": 58,
      "outputs": [
        {
          "output_type": "execute_result",
          "data": {
            "text/plain": [
              "(28, 11)"
            ]
          },
          "metadata": {},
          "execution_count": 58
        }
      ]
    },
    {
      "cell_type": "code",
      "source": [
        "trainDF1=df1[0:18]\n",
        "xtrain1=trainDF1.iloc[:,0:11].values\n",
        "ytrain1=trainDF1.iloc[:,-1].values"
      ],
      "metadata": {
        "id": "DpddNejGhnPT"
      },
      "execution_count": 59,
      "outputs": []
    },
    {
      "cell_type": "code",
      "source": [
        "testDF1=df1[18:]\n",
        "xtest1=testDF1.iloc[:,0:11].values\n",
        "ytest1=testDF1.iloc[:,-1].values"
      ],
      "metadata": {
        "id": "zbpT1-tbh7ew"
      },
      "execution_count": 60,
      "outputs": []
    },
    {
      "cell_type": "code",
      "source": [
        "#Adding bias as one\n",
        "x1=np.array(xtrain1)\n",
        "# Creating a column of ones that will be used as a bias\n",
        "one=np.ones(18)\n",
        "onet= np.ones(10)   \n",
        "one=np.array(one).reshape(18,1)\n",
        "one_test=np.array(onet).reshape(10,1)\n",
        "# Adding column 'one' as a bias\n",
        "x1=np.append(x1,one,axis=1)   \n",
        "x2 = np.append(xtest1,one_test,axis=1)"
      ],
      "metadata": {
        "id": "QL6s22VmiD8u"
      },
      "execution_count": 61,
      "outputs": []
    },
    {
      "cell_type": "code",
      "source": [
        "#Taking the eqn for the train and test data\n",
        "x1_t=x1.transpose()    \n",
        "x1_t_x1 = np.dot(x1_t, x1)\n",
        "x1_t_x1_inv=np.linalg.inv(x1_t_x1) #taking inverse\n",
        "yn=np.array(ytrain1).reshape(18,1)\n",
        "y_t=np.array(ytest1).reshape(10,1)\n",
        "x1_t_y1=np.dot(x1_t, yn)\n",
        "#calculating beta value\n",
        "beta=np.dot(x1_t_x1_inv, x1_t_y1)\n",
        "y_pred = x1.dot(beta)\n",
        "y_predt=x2.dot(beta) "
      ],
      "metadata": {
        "id": "MIWBN5PuiP5B"
      },
      "execution_count": 62,
      "outputs": []
    },
    {
      "cell_type": "code",
      "source": [
        "#Finding the error value using Avg Least square error\n",
        "print(x1.shape)\n",
        "err_train=(((y_pred-yn)**2).sum())/(2*(a)) \n",
        "err_test=(((y_predt-y_t)**2).sum())/(2*(a)) \n",
        "print(\"Average Least Squared Error for train set\",err_train)\n",
        "print(\"Average Least Squared Error for test data\",err_test)"
      ],
      "metadata": {
        "colab": {
          "base_uri": "https://localhost:8080/"
        },
        "id": "1WW3xzPxiZh4",
        "outputId": "7265084b-bce3-4b06-fe3d-06ab605e3fdd"
      },
      "execution_count": 63,
      "outputs": [
        {
          "output_type": "stream",
          "name": "stdout",
          "text": [
            "(18, 12)\n",
            "Average Least Squared Error for train set 8.485069236881653e-24\n",
            "Average Least Squared Error for test data 1.2000708850718694e-23\n"
          ]
        }
      ]
    }
  ]
}