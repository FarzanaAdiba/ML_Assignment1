{
  "nbformat": 4,
  "nbformat_minor": 0,
  "metadata": {
    "colab": {
      "provenance": [],
      "collapsed_sections": [],
      "mount_file_id": "1Z7DoEF7E-wBh6_O0NLla1yZ65YFWK75W",
      "authorship_tag": "ABX9TyMAszGgI/jHi5jqDfVB4aN5",
      "include_colab_link": true
    },
    "kernelspec": {
      "name": "python3",
      "display_name": "Python 3"
    },
    "language_info": {
      "name": "python"
    }
  },
  "cells": [
    {
      "cell_type": "markdown",
      "metadata": {
        "id": "view-in-github",
        "colab_type": "text"
      },
      "source": [
        "<a href=\"https://colab.research.google.com/github/FarzanaAdiba/ML_Assignment1/blob/main/Assignment1_prob3.ipynb\" target=\"_parent\"><img src=\"https://colab.research.google.com/assets/colab-badge.svg\" alt=\"Open In Colab\"/></a>"
      ]
    },
    {
      "cell_type": "code",
      "execution_count": 3,
      "metadata": {
        "id": "WzBr4Vp7BtaA"
      },
      "outputs": [],
      "source": [
        "# Making the imports\n",
        "import numpy as np\n",
        "import pandas as pd\n",
        "import matplotlib.pyplot as plt\n",
        "plt.rcParams['figure.figsize'] = (12.0, 9.0)"
      ]
    },
    {
      "cell_type": "code",
      "source": [
        "from google.colab import drive\n",
        "drive.mount('/content/drive/')\n",
        "#xtrain = np.load('x_train.npy')"
      ],
      "metadata": {
        "colab": {
          "base_uri": "https://localhost:8080/"
        },
        "id": "hICkD9CYBw3w",
        "outputId": "b459a66b-bbbe-494d-f2cf-7beffcad068f"
      },
      "execution_count": 4,
      "outputs": [
        {
          "output_type": "stream",
          "name": "stdout",
          "text": [
            "Drive already mounted at /content/drive/; to attempt to forcibly remount, call drive.mount(\"/content/drive/\", force_remount=True).\n"
          ]
        }
      ]
    },
    {
      "cell_type": "code",
      "source": [
        "xtrain = np.load('/content/drive/MyDrive/Colab Notebooks/ML_Assignments/x_train.npy')\n",
        "ytrain=np.load('/content/drive/MyDrive/Colab Notebooks/ML_Assignments/y_train.npy')\n",
        "xtest = np.load('/content/drive/MyDrive/Colab Notebooks/ML_Assignments/x_test.npy')\n",
        "ytest=np.load('/content/drive/MyDrive/Colab Notebooks/ML_Assignments/y_test.npy')"
      ],
      "metadata": {
        "id": "qTuJNQYHEJuK"
      },
      "execution_count": 5,
      "outputs": []
    },
    {
      "cell_type": "code",
      "source": [
        "plt.scatter(xtrain, ytrain)\n",
        "plt.title('Line Graph using npy file')\n",
        "plt.xlabel('X')\n",
        "plt.ylabel('Y')\n",
        "plt.show()"
      ],
      "metadata": {
        "colab": {
          "base_uri": "https://localhost:8080/",
          "height": 567
        },
        "id": "f9U3p2HCP_BW",
        "outputId": "1cad51ea-0e50-49db-a869-dc2550937c5d"
      },
      "execution_count": 6,
      "outputs": [
        {
          "output_type": "display_data",
          "data": {
            "text/plain": [
              "<Figure size 864x648 with 1 Axes>"
            ],
            "image/png": "[encoded data removed]"
          },
          "metadata": {
            "needs_background": "light"
          }
        }
      ]
    },
    {
      "cell_type": "code",
      "source": [
        "xtrain.shape,ytrain.shape\n"
      ],
      "metadata": {
        "colab": {
          "base_uri": "https://localhost:8080/"
        },
        "id": "dH49bqQbQNSO",
        "outputId": "4d6b68b4-52fc-4339-ca2a-74cb1bd82b7a"
      },
      "execution_count": 7,
      "outputs": [
        {
          "output_type": "execute_result",
          "data": {
            "text/plain": [
              "((100, 1), (100,))"
            ]
          },
          "metadata": {},
          "execution_count": 7
        }
      ]
    },
    {
      "cell_type": "code",
      "source": [
        "plt.scatter(xtest, ytest)\n",
        "plt.title('Line Graph using npy file for Test Data')\n",
        "plt.xlabel('X')\n",
        "plt.ylabel('Y')\n",
        "plt.show()"
      ],
      "metadata": {
        "colab": {
          "base_uri": "https://localhost:8080/",
          "height": 567
        },
        "id": "tr5vNWroQpb_",
        "outputId": "bc427f65-96c3-4015-e1c8-65f8f105bc0c"
      },
      "execution_count": 8,
      "outputs": [
        {
          "output_type": "display_data",
          "data": {
            "text/plain": [
              "<Figure size 864x648 with 1 Axes>"
            ],
            "image/png": "[encoded data removed]"
          },
          "metadata": {
            "needs_background": "light"
          }
        }
      ]
    },
    {
      "cell_type": "code",
      "source": [
        "for i in range(len(xtest)):\n",
        "    X0 = xtest[i]\n",
        "    X = np.ones((len(xtrain), 2))\n",
        "    W = np.zeros((len(xtrain), len(xtrain)))\n",
        " \n",
        "    for j in range(len(xtrain)):\n",
        "        X[j][1] = xtrain[j] - X0\n",
        "        tau=2\n",
        "        W[j][j] = np.exp(-(xtrain[j] - X0) ** 2 / (2 * tau*tau))"
      ],
      "metadata": {
        "id": "4XzIUieSvSnQ"
      },
      "execution_count": 33,
      "outputs": []
    },
    {
      "cell_type": "code",
      "source": [
        "#RESHAPING THE TEST DATASET\n",
        "x2= np.array(xtest).reshape(100,1)\n",
        "y2=np.array(ytest).reshape(100,1)\n"
      ],
      "metadata": {
        "id": "2wG_wSbmRlW1"
      },
      "execution_count": 46,
      "outputs": []
    },
    {
      "cell_type": "code",
      "source": [
        "#W=np.array(W).reshape(100,1)"
      ],
      "metadata": {
        "colab": {
          "base_uri": "https://localhost:8080/",
          "height": 165
        },
        "id": "4bOZ1Fd7xrAS",
        "outputId": "c11d5e31-59a4-43aa-f2c0-e45982cdee0b"
      },
      "execution_count": 44,
      "outputs": [
        {
          "output_type": "error",
          "ename": "ValueError",
          "evalue": "ignored",
          "traceback": [
            "\u001b[0;31m---------------------------------------------------------------------------\u001b[0m",
            "\u001b[0;31mValueError\u001b[0m                                Traceback (most recent call last)",
            "\u001b[0;32m<ipython-input-44-43b22908da1b>\u001b[0m in \u001b[0;36m<module>\u001b[0;34m\u001b[0m\n\u001b[0;32m----> 1\u001b[0;31m \u001b[0mW\u001b[0m\u001b[0;34m=\u001b[0m\u001b[0mnp\u001b[0m\u001b[0;34m.\u001b[0m\u001b[0marray\u001b[0m\u001b[0;34m(\u001b[0m\u001b[0mW\u001b[0m\u001b[0;34m)\u001b[0m\u001b[0;34m.\u001b[0m\u001b[0mreshape\u001b[0m\u001b[0;34m(\u001b[0m\u001b[0;36m100\u001b[0m\u001b[0;34m,\u001b[0m\u001b[0;36m1\u001b[0m\u001b[0;34m)\u001b[0m\u001b[0;34m\u001b[0m\u001b[0;34m\u001b[0m\u001b[0m\n\u001b[0m",
            "\u001b[0;31mValueError\u001b[0m: cannot reshape array of size 10000 into shape (100,1)"
          ]
        }
      ]
    },
    {
      "cell_type": "code",
      "source": [
        "#For non linearity I will use the non iteratrive equations step by step to find the best fit\n",
        "W.shape"
      ],
      "metadata": {
        "id": "gabRvBkARzWM",
        "colab": {
          "base_uri": "https://localhost:8080/"
        },
        "outputId": "b9bcce64-e724-49d1-b265-d402aead7980"
      },
      "execution_count": 47,
      "outputs": [
        {
          "output_type": "execute_result",
          "data": {
            "text/plain": [
              "(100, 100)"
            ]
          },
          "metadata": {},
          "execution_count": 47
        }
      ]
    },
    {
      "cell_type": "markdown",
      "source": [
        "2nd order Polynomial regression"
      ],
      "metadata": {
        "id": "uAyPWuR8TBoc"
      }
    },
    {
      "cell_type": "code",
      "source": [
        "#Adding bias as one\n",
        "x1=np.array(xtrain).reshape(100,1)\n",
        "y1=np.array(ytrain).reshape(100,1)\n",
        "#one=np.ones(100)\n",
        "#one=np.array(one).reshape(100,1)\n",
        "\n",
        "x1=np.append(one,x1,axis=1)\n",
        "x2=np.append(one,x2,axis=1)"
      ],
      "metadata": {
        "id": "qcQUc3mXTmCS"
      },
      "execution_count": 48,
      "outputs": []
    },
    {
      "cell_type": "code",
      "source": [
        "#Taking the eqn for the train and test data\n",
        "\n",
        "x1_t=x1.transpose() \n",
        "#x1_t=x1_t.reshape(100,1)  \n",
        "x1_t_x1 = np.dot(x1_t, x1)\n",
        "#taking the Weights w--->\n",
        "x1_t_x1_w=np.dot(x1_t_x1,W)\n",
        "x1_t_x1_w_inv=np.linalg.inv(x1_t_x1_w) #taking inverse\n",
        "yn=np.array(ytrain).reshape(100,1)\n",
        "#yn=y1\n",
        "y_t=np.array(ytest).reshape(100,1)\n",
        "#taking the Weights w for y--->\n",
        "x1_t_y1=np.dot(x1_t, yn)\n",
        "x1_t_y1_w=np.dot(x1_t_y1, W)\n",
        "#calculating beta value\n",
        "beta=np.dot(x1_t_x1_w_inv, x1_t_y1_w)\n",
        "y_pred = x1.dot(beta)\n",
        "y_predt=x2.dot(beta) "
      ],
      "metadata": {
        "colab": {
          "base_uri": "https://localhost:8080/",
          "height": 269
        },
        "id": "1X-bBmyhTN1S",
        "outputId": "1be1ad71-21fb-4e7d-a623-ca3956e4c61f"
      },
      "execution_count": 49,
      "outputs": [
        {
          "output_type": "error",
          "ename": "ValueError",
          "evalue": "ignored",
          "traceback": [
            "\u001b[0;31m---------------------------------------------------------------------------\u001b[0m",
            "\u001b[0;31mValueError\u001b[0m                                Traceback (most recent call last)",
            "\u001b[0;32m<ipython-input-49-14e283088e7f>\u001b[0m in \u001b[0;36m<module>\u001b[0;34m\u001b[0m\n\u001b[1;32m      5\u001b[0m \u001b[0mx1_t_x1\u001b[0m \u001b[0;34m=\u001b[0m \u001b[0mnp\u001b[0m\u001b[0;34m.\u001b[0m\u001b[0mdot\u001b[0m\u001b[0;34m(\u001b[0m\u001b[0mx1_t\u001b[0m\u001b[0;34m,\u001b[0m \u001b[0mx1\u001b[0m\u001b[0;34m)\u001b[0m\u001b[0;34m\u001b[0m\u001b[0;34m\u001b[0m\u001b[0m\n\u001b[1;32m      6\u001b[0m \u001b[0;31m#taking the Weights w--->\u001b[0m\u001b[0;34m\u001b[0m\u001b[0;34m\u001b[0m\u001b[0;34m\u001b[0m\u001b[0m\n\u001b[0;32m----> 7\u001b[0;31m \u001b[0mx1_t_x1_w\u001b[0m\u001b[0;34m=\u001b[0m\u001b[0mnp\u001b[0m\u001b[0;34m.\u001b[0m\u001b[0mdot\u001b[0m\u001b[0;34m(\u001b[0m\u001b[0mx1_t_x1\u001b[0m\u001b[0;34m,\u001b[0m\u001b[0mW\u001b[0m\u001b[0;34m)\u001b[0m\u001b[0;34m\u001b[0m\u001b[0;34m\u001b[0m\u001b[0m\n\u001b[0m\u001b[1;32m      8\u001b[0m \u001b[0mx1_t_x1_w_inv\u001b[0m\u001b[0;34m=\u001b[0m\u001b[0mnp\u001b[0m\u001b[0;34m.\u001b[0m\u001b[0mlinalg\u001b[0m\u001b[0;34m.\u001b[0m\u001b[0minv\u001b[0m\u001b[0;34m(\u001b[0m\u001b[0mx1_t_x1_w\u001b[0m\u001b[0;34m)\u001b[0m \u001b[0;31m#taking inverse\u001b[0m\u001b[0;34m\u001b[0m\u001b[0;34m\u001b[0m\u001b[0m\n\u001b[1;32m      9\u001b[0m \u001b[0myn\u001b[0m\u001b[0;34m=\u001b[0m\u001b[0mnp\u001b[0m\u001b[0;34m.\u001b[0m\u001b[0marray\u001b[0m\u001b[0;34m(\u001b[0m\u001b[0mytrain\u001b[0m\u001b[0;34m)\u001b[0m\u001b[0;34m.\u001b[0m\u001b[0mreshape\u001b[0m\u001b[0;34m(\u001b[0m\u001b[0;36m100\u001b[0m\u001b[0;34m,\u001b[0m\u001b[0;36m1\u001b[0m\u001b[0;34m)\u001b[0m\u001b[0;34m\u001b[0m\u001b[0;34m\u001b[0m\u001b[0m\n",
            "\u001b[0;32m<__array_function__ internals>\u001b[0m in \u001b[0;36mdot\u001b[0;34m(*args, **kwargs)\u001b[0m\n",
            "\u001b[0;31mValueError\u001b[0m: shapes (2,2) and (100,100) not aligned: 2 (dim 1) != 100 (dim 0)"
          ]
        }
      ]
    },
    {
      "cell_type": "markdown",
      "source": [
        "# 3.a) Ans: There is no basis function used in the locally weighted function as it only used one time not like the polynomial regression changing the values each time."
      ],
      "metadata": {
        "id": "jS98BHGm3-Nl"
      }
    },
    {
      "cell_type": "markdown",
      "source": [
        "# 3.b) Ans: There is a some difference between the problem 1 and problem 3 that it only used the equation one time, no increment order. But in polynomial regression we can see the increment in each time showing the basis functions to find the best fit. In polynomial as we are increasing the dimension of the equation the more it fits with the training data."
      ],
      "metadata": {
        "id": "i-Rl-rqb6ooc"
      }
    },
    {
      "cell_type": "markdown",
      "source": [],
      "metadata": {
        "id": "dnNJvhI77YcG"
      }
    }
  ]
}